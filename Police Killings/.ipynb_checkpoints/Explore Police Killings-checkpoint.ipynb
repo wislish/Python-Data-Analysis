{
 "cells": [
  {
   "cell_type": "code",
   "execution_count": 1,
   "metadata": {
    "collapsed": false
   },
   "outputs": [
    {
     "name": "stdout",
     "output_type": "stream",
     "text": [
      "Index(['name', 'age', 'gender', 'raceethnicity', 'month', 'day', 'year',\n",
      "       'streetaddress', 'city', 'state', 'latitude', 'longitude', 'state_fp',\n",
      "       'county_fp', 'tract_ce', 'geo_id', 'county_id', 'namelsad',\n",
      "       'lawenforcementagency', 'cause', 'armed', 'pop', 'share_white',\n",
      "       'share_black', 'share_hispanic', 'p_income', 'h_income',\n",
      "       'county_income', 'comp_income', 'county_bucket', 'nat_bucket', 'pov',\n",
      "       'urate', 'college'],\n",
      "      dtype='object')\n",
      "                 name age gender raceethnicity     month  day  year  \\\n",
      "0  A'donte Washington  16   Male         Black  February   23  2015   \n",
      "\n",
      "  streetaddress       city state   ...     share_hispanic  p_income  h_income  \\\n",
      "0  Clearview Ln  Millbrook    AL   ...                5.6     28375   51367.0   \n",
      "\n",
      "   county_income  comp_income  county_bucket  nat_bucket   pov     urate  \\\n",
      "0          54766     0.937936            3.0         3.0  14.1  0.097686   \n",
      "\n",
      "   college  \n",
      "0  0.16851  \n",
      "\n",
      "[1 rows x 34 columns]\n"
     ]
    },
    {
     "name": "stderr",
     "output_type": "stream",
     "text": [
      "/Users/wislish/anaconda/envs/500lines-crawler/lib/python3.4/site-packages/IPython/html.py:14: ShimWarning: The `IPython.html` package has been deprecated. You should import from `notebook` instead. `IPython.html.widgets` has moved to `ipywidgets`.\n",
      "  \"`IPython.html.widgets` has moved to `ipywidgets`.\", ShimWarning)\n"
     ]
    }
   ],
   "source": [
    "import pandas as pd\n",
    "import matplotlib.pyplot as plt\n",
    "import seaborn as sns\n",
    "police_killings = pd.read_csv(\"police_killings.csv\", encoding=\"ISO-8859-1\")\n",
    "\n",
    "print(police_killings.columns)\n",
    "print(police_killings.head(1))\n",
    "\n"
   ]
  },
  {
   "cell_type": "code",
   "execution_count": 2,
   "metadata": {
    "collapsed": false
   },
   "outputs": [
    {
     "name": "stdout",
     "output_type": "stream",
     "text": [
      "<class 'pandas.core.series.Series'>\n"
     ]
    }
   ],
   "source": [
    "race_counts = police_killings.raceethnicity.value_counts()\n",
    "print (type(race_counts))"
   ]
  },
  {
   "cell_type": "code",
   "execution_count": 3,
   "metadata": {
    "collapsed": false
   },
   "outputs": [
    {
     "name": "stdout",
     "output_type": "stream",
     "text": [
      "Index(['White', 'Black', 'Hispanic/Latino', 'Unknown',\n",
      "       'Asian/Pacific Islander', 'Native American'],\n",
      "      dtype='object')\n"
     ]
    },
    {
     "data": {
      "text/plain": [
       "<matplotlib.axes._subplots.AxesSubplot at 0x10f571b00>"
      ]
     },
     "execution_count": 3,
     "metadata": {},
     "output_type": "execute_result"
    },
    {
     "data": {
      "image/png": "[encoded data removed]",
      "text/plain": [
       "<matplotlib.figure.Figure at 0x10f565978>"
      ]
     },
     "metadata": {},
     "output_type": "display_data"
    }
   ],
   "source": [
    "%matplotlib inline\n",
    "# sns.distplot(race_counts.index,race_counts.values)\n",
    "print(race_counts.index)\n",
    "sns.barplot(race_counts.index, race_counts.values)"
   ]
  },
  {
   "cell_type": "code",
   "execution_count": 4,
   "metadata": {
    "collapsed": false
   },
   "outputs": [
    {
     "data": {
      "text/plain": [
       "<matplotlib.axes._subplots.AxesSubplot at 0x111a3e2b0>"
      ]
     },
     "execution_count": 4,
     "metadata": {},
     "output_type": "execute_result"
    },
    {
     "data": {
      "image/png": "[encoded data removed]",
      "text/plain": [
       "<matplotlib.figure.Figure at 0x111a80e10>"
      ]
     },
     "metadata": {},
     "output_type": "display_data"
    }
   ],
   "source": [
    "income = police_killings.p_income.loc[police_killings.p_income !='-']\n",
    "income = income.astype(int)\n",
    "sns.distplot(income, kde=False, rug=True)"
   ]
  },
  {
   "cell_type": "code",
   "execution_count": 5,
   "metadata": {
    "collapsed": false
   },
   "outputs": [
    {
     "name": "stdout",
     "output_type": "stream",
     "text": [
      "    STATE  shootings  SUMLEV REGION DIVISION                  NAME  \\\n",
      "0       6         74      40      4        9            California   \n",
      "1      48         47      40      3        7                 Texas   \n",
      "2      12         29      40      3        5               Florida   \n",
      "3       4         25      40      4        8               Arizona   \n",
      "4      40         22      40      3        7              Oklahoma   \n",
      "5      13         16      40      3        5               Georgia   \n",
      "6      36         13      40      1        2              New York   \n",
      "7       8         12      40      4        8              Colorado   \n",
      "8      34         11      40      1        2            New Jersey   \n",
      "9      53         11      40      4        9            Washington   \n",
      "10     22         11      40      3        7             Louisiana   \n",
      "11     17         11      40      2        3              Illinois   \n",
      "12     39         10      40      2        3                  Ohio   \n",
      "13     29         10      40      2        4              Missouri   \n",
      "14     24         10      40      3        5              Maryland   \n",
      "15     37         10      40      3        5        North Carolina   \n",
      "16     26          9      40      2        3              Michigan   \n",
      "17     45          9      40      3        5        South Carolina   \n",
      "18     51          9      40      3        5              Virginia   \n",
      "19     41          8      40      4        9                Oregon   \n",
      "20     18          8      40      2        3               Indiana   \n",
      "21      1          8      40      3        6               Alabama   \n",
      "22     42          7      40      1        2          Pennsylvania   \n",
      "23     21          7      40      3        6              Kentucky   \n",
      "24     20          6      40      2        4                Kansas   \n",
      "25     27          6      40      2        4             Minnesota   \n",
      "26     28          6      40      3        6           Mississippi   \n",
      "27     31          6      40      2        4              Nebraska   \n",
      "28     47          6      40      3        6             Tennessee   \n",
      "29     25          5      40      1        1         Massachusetts   \n",
      "30     49          5      40      4        8                  Utah   \n",
      "31     55          5      40      2        3             Wisconsin   \n",
      "32     35          5      40      4        8            New Mexico   \n",
      "33     16          4      40      4        8                 Idaho   \n",
      "34     15          4      40      4        9                Hawaii   \n",
      "35      5          4      40      3        7              Arkansas   \n",
      "36     32          3      40      4        8                Nevada   \n",
      "37     30          2      40      4        8               Montana   \n",
      "38     19          2      40      2        4                  Iowa   \n",
      "39      2          2      40      4        9                Alaska   \n",
      "40     54          2      40      3        5         West Virginia   \n",
      "41     10          2      40      3        5              Delaware   \n",
      "42     33          1      40      1        1         New Hampshire   \n",
      "43      9          1      40      1        1           Connecticut   \n",
      "44     11          1      40      3        5  District of Columbia   \n",
      "45     23          1      40      1        1                 Maine   \n",
      "46     56          1      40      4        8               Wyoming   \n",
      "\n",
      "    POPESTIMATE2015  POPEST18PLUS2015  PCNT_POPEST18PLUS  \n",
      "0          39144818          30023902               76.7  \n",
      "1          27469114          20257343               73.7  \n",
      "2          20271272          16166143               79.7  \n",
      "3           6828065           5205215               76.2  \n",
      "4           3911338           2950017               75.4  \n",
      "5          10214860           7710688               75.5  \n",
      "6          19795791          15584974               78.7  \n",
      "7           5456574           4199509               77.0  \n",
      "8           8958013           6959192               77.7  \n",
      "9           7170351           5558509               77.5  \n",
      "10          4670724           3555911               76.1  \n",
      "11         12859995           9901322               77.0  \n",
      "12         11613423           8984946               77.4  \n",
      "13          6083672           4692196               77.1  \n",
      "14          6006401           4658175               77.6  \n",
      "15         10042802           7752234               77.2  \n",
      "16          9922576           7715272               77.8  \n",
      "17          4896146           3804558               77.7  \n",
      "18          8382993           6512571               77.7  \n",
      "19          4028977           3166121               78.6  \n",
      "20          6619680           5040224               76.1  \n",
      "21          4858979           3755483               77.3  \n",
      "22         12802503          10112229               79.0  \n",
      "23          4425092           3413425               77.1  \n",
      "24          2911641           2192084               75.3  \n",
      "25          5489594           4205207               76.6  \n",
      "26          2992333           2265485               75.7  \n",
      "27          1896190           1425853               75.2  \n",
      "28          6600299           5102688               77.3  \n",
      "29          6794422           5407335               79.6  \n",
      "30          2995919           2083423               69.5  \n",
      "31          5771337           4476711               77.6  \n",
      "32          2085109           1588201               76.2  \n",
      "33          1654930           1222093               73.8  \n",
      "34          1431603           1120770               78.3  \n",
      "35          2978204           2272904               76.3  \n",
      "36          2890845           2221681               76.9  \n",
      "37          1032949            806529               78.1  \n",
      "38          3123899           2395103               76.7  \n",
      "39           738432            552166               74.8  \n",
      "40          1844128           1464532               79.4  \n",
      "41           945934            741548               78.4  \n",
      "42          1330608           1066610               80.2  \n",
      "43          3590886           2826827               78.7  \n",
      "44           672228            554121               82.4  \n",
      "45          1329328           1072948               80.7  \n",
      "46           586107            447212               76.3  \n"
     ]
    }
   ],
   "source": [
    "state_pop = pd.read_csv(\"state_population.csv\")\n",
    "counts = police_killings.state_fp.value_counts()\n",
    "# print(counts)\n",
    "states = pd.DataFrame({\"STATE\":\n",
    "                      counts.index, \"shootings\":\n",
    "                      counts})\n",
    "states = pd.merge(states, state_pop, on=\"STATE\")\n",
    "print(states)"
   ]
  },
  {
   "cell_type": "code",
   "execution_count": 6,
   "metadata": {
    "collapsed": true
   },
   "outputs": [],
   "source": [
    "states['pop_millions'] = states['POPESTIMATE2015'] / 1000000\n",
    "states['rate'] = states['shootings'] / states['pop_millions']\n",
    "\n"
   ]
  },
  {
   "cell_type": "code",
   "execution_count": 7,
   "metadata": {
    "collapsed": false
   },
   "outputs": [
    {
     "name": "stdout",
     "output_type": "stream",
     "text": [
      "                    NAME      rate  STATE\n",
      "43           Connecticut  0.278483      9\n",
      "22          Pennsylvania  0.546768     42\n",
      "38                  Iowa  0.640226     19\n",
      "6               New York  0.656705     36\n",
      "29         Massachusetts  0.735898     25\n",
      "42         New Hampshire  0.751536     33\n",
      "45                 Maine  0.752260     23\n",
      "11              Illinois  0.855366     17\n",
      "12                  Ohio  0.861073     39\n",
      "31             Wisconsin  0.866350     55\n",
      "16              Michigan  0.907023     26\n",
      "28             Tennessee  0.909050     47\n",
      "15        North Carolina  0.995738     37\n",
      "36                Nevada  1.037759     32\n",
      "18              Virginia  1.073602     51\n",
      "40         West Virginia  1.084523     54\n",
      "25             Minnesota  1.092977     27\n",
      "20               Indiana  1.208518     18\n",
      "8             New Jersey  1.227951     34\n",
      "35              Arkansas  1.343091      5\n",
      "2                Florida  1.430596     12\n",
      "44  District of Columbia  1.487591     11\n",
      "9             Washington  1.534095     53\n",
      "5                Georgia  1.566346     13\n",
      "23              Kentucky  1.581888     21\n",
      "13              Missouri  1.643744     29\n",
      "21               Alabama  1.646436      1\n",
      "14              Maryland  1.664891     24\n",
      "30                  Utah  1.668937     49\n",
      "46               Wyoming  1.706173     56\n",
      "1                  Texas  1.711013     48\n",
      "17        South Carolina  1.838180     45\n",
      "0             California  1.890416      6\n",
      "37               Montana  1.936204     30\n",
      "19                Oregon  1.985616     41\n",
      "26           Mississippi  2.005124     28\n",
      "24                Kansas  2.060694     20\n",
      "41              Delaware  2.114312     10\n",
      "7               Colorado  2.199182      8\n",
      "10             Louisiana  2.355095     22\n",
      "32            New Mexico  2.397956     35\n",
      "33                 Idaho  2.417021     16\n",
      "39                Alaska  2.708442      2\n",
      "34                Hawaii  2.794071     15\n",
      "27              Nebraska  3.164240     31\n",
      "3                Arizona  3.661359      4\n",
      "4               Oklahoma  5.624674     40\n",
      "                    NAME      rate\n",
      "4               Oklahoma  5.624674\n",
      "3                Arizona  3.661359\n",
      "27              Nebraska  3.164240\n",
      "34                Hawaii  2.794071\n",
      "39                Alaska  2.708442\n",
      "33                 Idaho  2.417021\n",
      "32            New Mexico  2.397956\n",
      "10             Louisiana  2.355095\n",
      "7               Colorado  2.199182\n",
      "41              Delaware  2.114312\n",
      "24                Kansas  2.060694\n",
      "26           Mississippi  2.005124\n",
      "19                Oregon  1.985616\n",
      "37               Montana  1.936204\n",
      "0             California  1.890416\n",
      "17        South Carolina  1.838180\n",
      "1                  Texas  1.711013\n",
      "46               Wyoming  1.706173\n",
      "30                  Utah  1.668937\n",
      "14              Maryland  1.664891\n",
      "21               Alabama  1.646436\n",
      "13              Missouri  1.643744\n",
      "23              Kentucky  1.581888\n",
      "5                Georgia  1.566346\n",
      "9             Washington  1.534095\n",
      "44  District of Columbia  1.487591\n",
      "2                Florida  1.430596\n",
      "35              Arkansas  1.343091\n",
      "8             New Jersey  1.227951\n",
      "20               Indiana  1.208518\n",
      "25             Minnesota  1.092977\n",
      "40         West Virginia  1.084523\n",
      "18              Virginia  1.073602\n",
      "36                Nevada  1.037759\n",
      "15        North Carolina  0.995738\n",
      "28             Tennessee  0.909050\n",
      "16              Michigan  0.907023\n",
      "31             Wisconsin  0.866350\n",
      "12                  Ohio  0.861073\n",
      "11              Illinois  0.855366\n",
      "45                 Maine  0.752260\n",
      "42         New Hampshire  0.751536\n",
      "29         Massachusetts  0.735898\n",
      "6               New York  0.656705\n",
      "38                  Iowa  0.640226\n",
      "22          Pennsylvania  0.546768\n",
      "43           Connecticut  0.278483\n"
     ]
    },
    {
     "name": "stderr",
     "output_type": "stream",
     "text": [
      "/Users/wislish/anaconda/envs/500lines-crawler/lib/python3.4/site-packages/ipykernel/__main__.py:1: FutureWarning: sort(columns=....) is deprecated, use sort_values(by=.....)\n",
      "  if __name__ == '__main__':\n",
      "/Users/wislish/anaconda/envs/500lines-crawler/lib/python3.4/site-packages/ipykernel/__main__.py:2: FutureWarning: sort(columns=....) is deprecated, use sort_values(by=.....)\n",
      "  from ipykernel import kernelapp as app\n",
      "/Users/wislish/anaconda/envs/500lines-crawler/lib/python3.4/site-packages/ipykernel/__main__.py:3: FutureWarning: sort(columns=....) is deprecated, use sort_values(by=.....)\n",
      "  app.launch_new_instance()\n"
     ]
    }
   ],
   "source": [
    "states.sort(['rate'])\n",
    "print(states.sort(['rate'])[['NAME','rate','STATE']])\n",
    "print(states.sort(['rate'],ascending=False).loc[:,['NAME','rate']])"
   ]
  },
  {
   "cell_type": "code",
   "execution_count": 8,
   "metadata": {
    "collapsed": false
   },
   "outputs": [
    {
     "name": "stdout",
     "output_type": "stream",
     "text": [
      "43     9\n",
      "22    42\n",
      "38    19\n",
      "6     36\n",
      "29    25\n",
      "42    33\n",
      "45    23\n",
      "11    17\n",
      "12    39\n",
      "31    55\n",
      "Name: STATE, dtype: int64\n",
      "467\n"
     ]
    },
    {
     "name": "stderr",
     "output_type": "stream",
     "text": [
      "/Users/wislish/anaconda/envs/500lines-crawler/lib/python3.4/site-packages/ipykernel/__main__.py:1: FutureWarning: sort(columns=....) is deprecated, use sort_values(by=.....)\n",
      "  if __name__ == '__main__':\n",
      "/Users/wislish/anaconda/envs/500lines-crawler/lib/python3.4/site-packages/ipykernel/__main__.py:2: FutureWarning: sort(columns=....) is deprecated, use sort_values(by=.....)\n",
      "  from ipykernel import kernelapp as app\n"
     ]
    }
   ],
   "source": [
    "lowest_rate = states.sort(['rate']).STATE.iloc[0:10]\n",
    "highest_rate = states.sort(['rate'],ascending=False).STATE.iloc[0:10]\n",
    "print(lowest_rate)\n",
    "# print(pk.shape)\n",
    "pk = police_killings.loc[((police_killings.share_white!='-') &\n",
    "                         (police_killings.share_black!='-') &\n",
    "                         (police_killings.share_hispanic!='-')),:]\n",
    "nounder = ((police_killings.share_white!='-') & (police_killings.share_black!='-') & \n",
    "            (police_killings.share_hispanic!='-'))\n",
    "print(len(nounder))"
   ]
  },
  {
   "cell_type": "code",
   "execution_count": 9,
   "metadata": {
    "collapsed": false
   },
   "outputs": [
    {
     "data": {
      "text/html": [
       "<div>\n",
       "<table border=\"1\" class=\"dataframe\">\n",
       "  <thead>\n",
       "    <tr style=\"text-align: right;\">\n",
       "      <th></th>\n",
       "      <th>day</th>\n",
       "      <th>year</th>\n",
       "      <th>latitude</th>\n",
       "      <th>longitude</th>\n",
       "      <th>state_fp</th>\n",
       "      <th>county_fp</th>\n",
       "      <th>tract_ce</th>\n",
       "      <th>geo_id</th>\n",
       "      <th>county_id</th>\n",
       "      <th>pop</th>\n",
       "      <th>h_income</th>\n",
       "      <th>county_income</th>\n",
       "      <th>comp_income</th>\n",
       "      <th>county_bucket</th>\n",
       "      <th>nat_bucket</th>\n",
       "      <th>urate</th>\n",
       "      <th>college</th>\n",
       "    </tr>\n",
       "  </thead>\n",
       "  <tbody>\n",
       "    <tr>\n",
       "      <th>count</th>\n",
       "      <td>55.000000</td>\n",
       "      <td>55.0</td>\n",
       "      <td>55.000000</td>\n",
       "      <td>55.000000</td>\n",
       "      <td>55.000000</td>\n",
       "      <td>55.000000</td>\n",
       "      <td>55.000000</td>\n",
       "      <td>5.500000e+01</td>\n",
       "      <td>55.000000</td>\n",
       "      <td>55.000000</td>\n",
       "      <td>55.000000</td>\n",
       "      <td>55.000000</td>\n",
       "      <td>55.000000</td>\n",
       "      <td>53.000000</td>\n",
       "      <td>55.000000</td>\n",
       "      <td>55.000000</td>\n",
       "      <td>55.000000</td>\n",
       "    </tr>\n",
       "    <tr>\n",
       "      <th>mean</th>\n",
       "      <td>15.163636</td>\n",
       "      <td>2015.0</td>\n",
       "      <td>41.388989</td>\n",
       "      <td>-80.372303</td>\n",
       "      <td>32.781818</td>\n",
       "      <td>69.254545</td>\n",
       "      <td>241421.200000</td>\n",
       "      <td>3.285131e+10</td>\n",
       "      <td>32851.072727</td>\n",
       "      <td>4153.472727</td>\n",
       "      <td>45410.436364</td>\n",
       "      <td>55037.963636</td>\n",
       "      <td>0.825253</td>\n",
       "      <td>2.301887</td>\n",
       "      <td>2.418182</td>\n",
       "      <td>0.127544</td>\n",
       "      <td>0.206110</td>\n",
       "    </tr>\n",
       "    <tr>\n",
       "      <th>std</th>\n",
       "      <td>8.526133</td>\n",
       "      <td>0.0</td>\n",
       "      <td>1.555304</td>\n",
       "      <td>7.024905</td>\n",
       "      <td>11.886330</td>\n",
       "      <td>56.704634</td>\n",
       "      <td>338096.836487</td>\n",
       "      <td>1.187539e+10</td>\n",
       "      <td>11875.547207</td>\n",
       "      <td>1395.466029</td>\n",
       "      <td>21783.762734</td>\n",
       "      <td>12468.570173</td>\n",
       "      <td>0.313287</td>\n",
       "      <td>1.408558</td>\n",
       "      <td>1.300867</td>\n",
       "      <td>0.072674</td>\n",
       "      <td>0.148677</td>\n",
       "    </tr>\n",
       "    <tr>\n",
       "      <th>min</th>\n",
       "      <td>1.000000</td>\n",
       "      <td>2015.0</td>\n",
       "      <td>37.176040</td>\n",
       "      <td>-93.609646</td>\n",
       "      <td>9.000000</td>\n",
       "      <td>1.000000</td>\n",
       "      <td>101.000000</td>\n",
       "      <td>9.009184e+09</td>\n",
       "      <td>9009.000000</td>\n",
       "      <td>1271.000000</td>\n",
       "      <td>18833.000000</td>\n",
       "      <td>34388.000000</td>\n",
       "      <td>0.329534</td>\n",
       "      <td>1.000000</td>\n",
       "      <td>1.000000</td>\n",
       "      <td>0.030341</td>\n",
       "      <td>0.026404</td>\n",
       "    </tr>\n",
       "    <tr>\n",
       "      <th>25%</th>\n",
       "      <td>7.500000</td>\n",
       "      <td>2015.0</td>\n",
       "      <td>40.610408</td>\n",
       "      <td>-87.859926</td>\n",
       "      <td>21.000000</td>\n",
       "      <td>26.000000</td>\n",
       "      <td>6465.000000</td>\n",
       "      <td>2.107848e+10</td>\n",
       "      <td>21078.000000</td>\n",
       "      <td>3236.500000</td>\n",
       "      <td>31010.000000</td>\n",
       "      <td>46578.500000</td>\n",
       "      <td>0.610756</td>\n",
       "      <td>1.000000</td>\n",
       "      <td>1.000000</td>\n",
       "      <td>0.083995</td>\n",
       "      <td>0.101664</td>\n",
       "    </tr>\n",
       "    <tr>\n",
       "      <th>50%</th>\n",
       "      <td>15.000000</td>\n",
       "      <td>2015.0</td>\n",
       "      <td>41.499610</td>\n",
       "      <td>-79.991463</td>\n",
       "      <td>36.000000</td>\n",
       "      <td>49.000000</td>\n",
       "      <td>40300.000000</td>\n",
       "      <td>3.605500e+10</td>\n",
       "      <td>36055.000000</td>\n",
       "      <td>4079.000000</td>\n",
       "      <td>42346.000000</td>\n",
       "      <td>53119.000000</td>\n",
       "      <td>0.777663</td>\n",
       "      <td>2.000000</td>\n",
       "      <td>2.000000</td>\n",
       "      <td>0.109368</td>\n",
       "      <td>0.160842</td>\n",
       "    </tr>\n",
       "    <tr>\n",
       "      <th>75%</th>\n",
       "      <td>22.000000</td>\n",
       "      <td>2015.0</td>\n",
       "      <td>42.287520</td>\n",
       "      <td>-73.950021</td>\n",
       "      <td>39.000000</td>\n",
       "      <td>108.000000</td>\n",
       "      <td>412150.000000</td>\n",
       "      <td>3.914627e+10</td>\n",
       "      <td>39146.000000</td>\n",
       "      <td>4923.500000</td>\n",
       "      <td>58303.000000</td>\n",
       "      <td>59206.000000</td>\n",
       "      <td>1.041945</td>\n",
       "      <td>3.000000</td>\n",
       "      <td>4.000000</td>\n",
       "      <td>0.166568</td>\n",
       "      <td>0.257514</td>\n",
       "    </tr>\n",
       "    <tr>\n",
       "      <th>max</th>\n",
       "      <td>31.000000</td>\n",
       "      <td>2015.0</td>\n",
       "      <td>46.159878</td>\n",
       "      <td>-68.100007</td>\n",
       "      <td>55.000000</td>\n",
       "      <td>201.000000</td>\n",
       "      <td>970300.000000</td>\n",
       "      <td>5.507902e+10</td>\n",
       "      <td>55079.000000</td>\n",
       "      <td>8222.000000</td>\n",
       "      <td>142500.000000</td>\n",
       "      <td>87763.000000</td>\n",
       "      <td>1.677438</td>\n",
       "      <td>5.000000</td>\n",
       "      <td>5.000000</td>\n",
       "      <td>0.448075</td>\n",
       "      <td>0.744900</td>\n",
       "    </tr>\n",
       "  </tbody>\n",
       "</table>\n",
       "</div>"
      ],
      "text/plain": [
       "             day    year   latitude  longitude   state_fp   county_fp  \\\n",
       "count  55.000000    55.0  55.000000  55.000000  55.000000   55.000000   \n",
       "mean   15.163636  2015.0  41.388989 -80.372303  32.781818   69.254545   \n",
       "std     8.526133     0.0   1.555304   7.024905  11.886330   56.704634   \n",
       "min     1.000000  2015.0  37.176040 -93.609646   9.000000    1.000000   \n",
       "25%     7.500000  2015.0  40.610408 -87.859926  21.000000   26.000000   \n",
       "50%    15.000000  2015.0  41.499610 -79.991463  36.000000   49.000000   \n",
       "75%    22.000000  2015.0  42.287520 -73.950021  39.000000  108.000000   \n",
       "max    31.000000  2015.0  46.159878 -68.100007  55.000000  201.000000   \n",
       "\n",
       "            tract_ce        geo_id     county_id          pop       h_income  \\\n",
       "count      55.000000  5.500000e+01     55.000000    55.000000      55.000000   \n",
       "mean   241421.200000  3.285131e+10  32851.072727  4153.472727   45410.436364   \n",
       "std    338096.836487  1.187539e+10  11875.547207  1395.466029   21783.762734   \n",
       "min       101.000000  9.009184e+09   9009.000000  1271.000000   18833.000000   \n",
       "25%      6465.000000  2.107848e+10  21078.000000  3236.500000   31010.000000   \n",
       "50%     40300.000000  3.605500e+10  36055.000000  4079.000000   42346.000000   \n",
       "75%    412150.000000  3.914627e+10  39146.000000  4923.500000   58303.000000   \n",
       "max    970300.000000  5.507902e+10  55079.000000  8222.000000  142500.000000   \n",
       "\n",
       "       county_income  comp_income  county_bucket  nat_bucket      urate  \\\n",
       "count      55.000000    55.000000      53.000000   55.000000  55.000000   \n",
       "mean    55037.963636     0.825253       2.301887    2.418182   0.127544   \n",
       "std     12468.570173     0.313287       1.408558    1.300867   0.072674   \n",
       "min     34388.000000     0.329534       1.000000    1.000000   0.030341   \n",
       "25%     46578.500000     0.610756       1.000000    1.000000   0.083995   \n",
       "50%     53119.000000     0.777663       2.000000    2.000000   0.109368   \n",
       "75%     59206.000000     1.041945       3.000000    4.000000   0.166568   \n",
       "max     87763.000000     1.677438       5.000000    5.000000   0.448075   \n",
       "\n",
       "         college  \n",
       "count  55.000000  \n",
       "mean    0.206110  \n",
       "std     0.148677  \n",
       "min     0.026404  \n",
       "25%     0.101664  \n",
       "50%     0.160842  \n",
       "75%     0.257514  \n",
       "max     0.744900  "
      ]
     },
     "execution_count": 9,
     "metadata": {},
     "output_type": "execute_result"
    }
   ],
   "source": [
    "# print(pk.describe())\n",
    "# print(pk.dtypes)\n",
    "low_murder = pk[pk.state_fp.isin(lowest_rate.values)]\n",
    "high_murder = pk[pk.state_fp.isin(highest_rate)]\n",
    "\n",
    "low_murder.describe()\n",
    "# high_murder[['share_white','share_black','share_hispanic']].describe()"
   ]
  },
  {
   "cell_type": "code",
   "execution_count": null,
   "metadata": {
    "collapsed": true
   },
   "outputs": [],
   "source": []
  }
 ],
 "metadata": {
  "kernelspec": {
   "display_name": "Python 3",
   "language": "python",
   "name": "python3"
  },
  "language_info": {
   "codemirror_mode": {
    "name": "ipython",
    "version": 3
   },
   "file_extension": ".py",
   "mimetype": "text/x-python",
   "name": "python",
   "nbconvert_exporter": "python",
   "pygments_lexer": "ipython3",
   "version": "3.4.4"
  }
 },
 "nbformat": 4,
 "nbformat_minor": 0
}
