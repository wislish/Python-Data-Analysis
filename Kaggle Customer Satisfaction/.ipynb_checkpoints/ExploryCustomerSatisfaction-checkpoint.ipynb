{
 "cells": [
  {
   "cell_type": "code",
   "execution_count": 4,
   "metadata": {
    "collapsed": false
   },
   "outputs": [
    {
     "data": {
      "text/html": [
       "<div>\n",
       "<table border=\"1\" class=\"dataframe\">\n",
       "  <thead>\n",
       "    <tr style=\"text-align: right;\">\n",
       "      <th></th>\n",
       "      <th>ID</th>\n",
       "      <th>var3</th>\n",
       "      <th>var15</th>\n",
       "      <th>imp_ent_var16_ult1</th>\n",
       "      <th>imp_op_var39_comer_ult1</th>\n",
       "      <th>imp_op_var39_comer_ult3</th>\n",
       "      <th>imp_op_var40_comer_ult1</th>\n",
       "      <th>imp_op_var40_comer_ult3</th>\n",
       "      <th>imp_op_var40_efect_ult1</th>\n",
       "      <th>imp_op_var40_efect_ult3</th>\n",
       "      <th>...</th>\n",
       "      <th>saldo_medio_var33_hace2</th>\n",
       "      <th>saldo_medio_var33_hace3</th>\n",
       "      <th>saldo_medio_var33_ult1</th>\n",
       "      <th>saldo_medio_var33_ult3</th>\n",
       "      <th>saldo_medio_var44_hace2</th>\n",
       "      <th>saldo_medio_var44_hace3</th>\n",
       "      <th>saldo_medio_var44_ult1</th>\n",
       "      <th>saldo_medio_var44_ult3</th>\n",
       "      <th>var38</th>\n",
       "      <th>TARGET</th>\n",
       "    </tr>\n",
       "  </thead>\n",
       "  <tbody>\n",
       "    <tr>\n",
       "      <th>0</th>\n",
       "      <td>1</td>\n",
       "      <td>2</td>\n",
       "      <td>23</td>\n",
       "      <td>0.0</td>\n",
       "      <td>0.0</td>\n",
       "      <td>0.0</td>\n",
       "      <td>0.0</td>\n",
       "      <td>0.0</td>\n",
       "      <td>0.0</td>\n",
       "      <td>0.0</td>\n",
       "      <td>...</td>\n",
       "      <td>0.0</td>\n",
       "      <td>0.0</td>\n",
       "      <td>0.0</td>\n",
       "      <td>0.0</td>\n",
       "      <td>0.0</td>\n",
       "      <td>0.0</td>\n",
       "      <td>0.0</td>\n",
       "      <td>0.0</td>\n",
       "      <td>39205.170000</td>\n",
       "      <td>0</td>\n",
       "    </tr>\n",
       "    <tr>\n",
       "      <th>1</th>\n",
       "      <td>3</td>\n",
       "      <td>2</td>\n",
       "      <td>34</td>\n",
       "      <td>0.0</td>\n",
       "      <td>0.0</td>\n",
       "      <td>0.0</td>\n",
       "      <td>0.0</td>\n",
       "      <td>0.0</td>\n",
       "      <td>0.0</td>\n",
       "      <td>0.0</td>\n",
       "      <td>...</td>\n",
       "      <td>0.0</td>\n",
       "      <td>0.0</td>\n",
       "      <td>0.0</td>\n",
       "      <td>0.0</td>\n",
       "      <td>0.0</td>\n",
       "      <td>0.0</td>\n",
       "      <td>0.0</td>\n",
       "      <td>0.0</td>\n",
       "      <td>49278.030000</td>\n",
       "      <td>0</td>\n",
       "    </tr>\n",
       "    <tr>\n",
       "      <th>2</th>\n",
       "      <td>4</td>\n",
       "      <td>2</td>\n",
       "      <td>23</td>\n",
       "      <td>0.0</td>\n",
       "      <td>0.0</td>\n",
       "      <td>0.0</td>\n",
       "      <td>0.0</td>\n",
       "      <td>0.0</td>\n",
       "      <td>0.0</td>\n",
       "      <td>0.0</td>\n",
       "      <td>...</td>\n",
       "      <td>0.0</td>\n",
       "      <td>0.0</td>\n",
       "      <td>0.0</td>\n",
       "      <td>0.0</td>\n",
       "      <td>0.0</td>\n",
       "      <td>0.0</td>\n",
       "      <td>0.0</td>\n",
       "      <td>0.0</td>\n",
       "      <td>67333.770000</td>\n",
       "      <td>0</td>\n",
       "    </tr>\n",
       "    <tr>\n",
       "      <th>3</th>\n",
       "      <td>8</td>\n",
       "      <td>2</td>\n",
       "      <td>37</td>\n",
       "      <td>0.0</td>\n",
       "      <td>195.0</td>\n",
       "      <td>195.0</td>\n",
       "      <td>0.0</td>\n",
       "      <td>0.0</td>\n",
       "      <td>0.0</td>\n",
       "      <td>0.0</td>\n",
       "      <td>...</td>\n",
       "      <td>0.0</td>\n",
       "      <td>0.0</td>\n",
       "      <td>0.0</td>\n",
       "      <td>0.0</td>\n",
       "      <td>0.0</td>\n",
       "      <td>0.0</td>\n",
       "      <td>0.0</td>\n",
       "      <td>0.0</td>\n",
       "      <td>64007.970000</td>\n",
       "      <td>0</td>\n",
       "    </tr>\n",
       "    <tr>\n",
       "      <th>4</th>\n",
       "      <td>10</td>\n",
       "      <td>2</td>\n",
       "      <td>39</td>\n",
       "      <td>0.0</td>\n",
       "      <td>0.0</td>\n",
       "      <td>0.0</td>\n",
       "      <td>0.0</td>\n",
       "      <td>0.0</td>\n",
       "      <td>0.0</td>\n",
       "      <td>0.0</td>\n",
       "      <td>...</td>\n",
       "      <td>0.0</td>\n",
       "      <td>0.0</td>\n",
       "      <td>0.0</td>\n",
       "      <td>0.0</td>\n",
       "      <td>0.0</td>\n",
       "      <td>0.0</td>\n",
       "      <td>0.0</td>\n",
       "      <td>0.0</td>\n",
       "      <td>117310.979016</td>\n",
       "      <td>0</td>\n",
       "    </tr>\n",
       "  </tbody>\n",
       "</table>\n",
       "<p>5 rows × 371 columns</p>\n",
       "</div>"
      ],
      "text/plain": [
       "   ID  var3  var15  imp_ent_var16_ult1  imp_op_var39_comer_ult1  \\\n",
       "0   1     2     23                 0.0                      0.0   \n",
       "1   3     2     34                 0.0                      0.0   \n",
       "2   4     2     23                 0.0                      0.0   \n",
       "3   8     2     37                 0.0                    195.0   \n",
       "4  10     2     39                 0.0                      0.0   \n",
       "\n",
       "   imp_op_var39_comer_ult3  imp_op_var40_comer_ult1  imp_op_var40_comer_ult3  \\\n",
       "0                      0.0                      0.0                      0.0   \n",
       "1                      0.0                      0.0                      0.0   \n",
       "2                      0.0                      0.0                      0.0   \n",
       "3                    195.0                      0.0                      0.0   \n",
       "4                      0.0                      0.0                      0.0   \n",
       "\n",
       "   imp_op_var40_efect_ult1  imp_op_var40_efect_ult3   ...    \\\n",
       "0                      0.0                      0.0   ...     \n",
       "1                      0.0                      0.0   ...     \n",
       "2                      0.0                      0.0   ...     \n",
       "3                      0.0                      0.0   ...     \n",
       "4                      0.0                      0.0   ...     \n",
       "\n",
       "   saldo_medio_var33_hace2  saldo_medio_var33_hace3  saldo_medio_var33_ult1  \\\n",
       "0                      0.0                      0.0                     0.0   \n",
       "1                      0.0                      0.0                     0.0   \n",
       "2                      0.0                      0.0                     0.0   \n",
       "3                      0.0                      0.0                     0.0   \n",
       "4                      0.0                      0.0                     0.0   \n",
       "\n",
       "   saldo_medio_var33_ult3  saldo_medio_var44_hace2  saldo_medio_var44_hace3  \\\n",
       "0                     0.0                      0.0                      0.0   \n",
       "1                     0.0                      0.0                      0.0   \n",
       "2                     0.0                      0.0                      0.0   \n",
       "3                     0.0                      0.0                      0.0   \n",
       "4                     0.0                      0.0                      0.0   \n",
       "\n",
       "   saldo_medio_var44_ult1  saldo_medio_var44_ult3          var38  TARGET  \n",
       "0                     0.0                     0.0   39205.170000       0  \n",
       "1                     0.0                     0.0   49278.030000       0  \n",
       "2                     0.0                     0.0   67333.770000       0  \n",
       "3                     0.0                     0.0   64007.970000       0  \n",
       "4                     0.0                     0.0  117310.979016       0  \n",
       "\n",
       "[5 rows x 371 columns]"
      ]
     },
     "execution_count": 4,
     "metadata": {},
     "output_type": "execute_result"
    }
   ],
   "source": [
    "# Based on https://www.kaggle.com/benhamner/d/uciml/iris/python-data-visualizations/notebook\n",
    "# First, we'll import pandas, a data processing and CSV file I/O library\n",
    "import pandas as pd\n",
    "import numpy as np\n",
    "\n",
    "# We'll also import seaborn, a Python graphing library\n",
    "import warnings # current version of seaborn generates a bunch of warnings that we'll ignore\n",
    "warnings.filterwarnings(\"ignore\")\n",
    "import seaborn as sns\n",
    "import matplotlib.pyplot as plt\n",
    "sns.set(style=\"white\", color_codes=True)\n",
    "\n",
    "# Next, we'll load the train and test dataset, which is in the \"../input/\" directory\n",
    "train = pd.read_csv(\"customer/train.csv\") # the train dataset is now a Pandas DataFrame\n",
    "test = pd.read_csv(\"customer/test.csv\") # the train dataset is now a Pandas DataFrame\n",
    "\n",
    "# Let's see what's in the trainings data - Jupyter notebooks print the result of the last thing you do\n",
    "train.head()\n",
    "\n",
    "# Press shift+enter to execute this cell"
   ]
  },
  {
   "cell_type": "code",
   "execution_count": 10,
   "metadata": {
    "collapsed": false
   },
   "outputs": [
    {
     "name": "stdout",
     "output_type": "stream",
     "text": [
      "                  ID           var3         var15  imp_ent_var16_ult1  \\\n",
      "count   76020.000000   76020.000000  76020.000000        76020.000000   \n",
      "mean    75964.050723   -1523.199277     33.212865           86.208265   \n",
      "std     43781.947379   39033.462364     12.956486         1614.757313   \n",
      "min         1.000000 -999999.000000      5.000000            0.000000   \n",
      "25%     38104.750000       2.000000     23.000000            0.000000   \n",
      "50%     76043.000000       2.000000     28.000000            0.000000   \n",
      "75%    113748.750000       2.000000     40.000000            0.000000   \n",
      "max    151838.000000     238.000000    105.000000       210000.000000   \n",
      "\n",
      "       imp_op_var39_comer_ult1  imp_op_var39_comer_ult3  \\\n",
      "count             76020.000000             76020.000000   \n",
      "mean                 72.363067               119.529632   \n",
      "std                 339.315831               546.266294   \n",
      "min                   0.000000                 0.000000   \n",
      "25%                   0.000000                 0.000000   \n",
      "50%                   0.000000                 0.000000   \n",
      "75%                   0.000000                 0.000000   \n",
      "max               12888.030000             21024.810000   \n",
      "\n",
      "       imp_op_var40_comer_ult1  imp_op_var40_comer_ult3  \\\n",
      "count             76020.000000             76020.000000   \n",
      "mean                  3.559130                 6.472698   \n",
      "std                  93.155749               153.737066   \n",
      "min                   0.000000                 0.000000   \n",
      "25%                   0.000000                 0.000000   \n",
      "50%                   0.000000                 0.000000   \n",
      "75%                   0.000000                 0.000000   \n",
      "max                8237.820000             11073.570000   \n",
      "\n",
      "       imp_op_var40_efect_ult1  imp_op_var40_efect_ult3      ...       \\\n",
      "count             76020.000000             76020.000000      ...        \n",
      "mean                  0.412946                 0.567352      ...        \n",
      "std                  30.604864                36.513513      ...        \n",
      "min                   0.000000                 0.000000      ...        \n",
      "25%                   0.000000                 0.000000      ...        \n",
      "50%                   0.000000                 0.000000      ...        \n",
      "75%                   0.000000                 0.000000      ...        \n",
      "max                6600.000000              6600.000000      ...        \n",
      "\n",
      "       saldo_medio_var33_hace2  saldo_medio_var33_hace3  \\\n",
      "count             76020.000000             76020.000000   \n",
      "mean                  7.935824                 1.365146   \n",
      "std                 455.887218               113.959637   \n",
      "min                   0.000000                 0.000000   \n",
      "25%                   0.000000                 0.000000   \n",
      "50%                   0.000000                 0.000000   \n",
      "75%                   0.000000                 0.000000   \n",
      "max               50003.880000             20385.720000   \n",
      "\n",
      "       saldo_medio_var33_ult1  saldo_medio_var33_ult3  \\\n",
      "count            76020.000000            76020.000000   \n",
      "mean                12.215580                8.784074   \n",
      "std                783.207399              538.439211   \n",
      "min                  0.000000                0.000000   \n",
      "25%                  0.000000                0.000000   \n",
      "50%                  0.000000                0.000000   \n",
      "75%                  0.000000                0.000000   \n",
      "max             138831.630000            91778.730000   \n",
      "\n",
      "       saldo_medio_var44_hace2  saldo_medio_var44_hace3  \\\n",
      "count             76020.000000             76020.000000   \n",
      "mean                 31.505324                 1.858575   \n",
      "std                2013.125393               147.786584   \n",
      "min                   0.000000                 0.000000   \n",
      "25%                   0.000000                 0.000000   \n",
      "50%                   0.000000                 0.000000   \n",
      "75%                   0.000000                 0.000000   \n",
      "max              438329.220000             24650.010000   \n",
      "\n",
      "       saldo_medio_var44_ult1  saldo_medio_var44_ult3         var38  \\\n",
      "count            76020.000000            76020.000000  7.602000e+04   \n",
      "mean                76.026165               56.614351  1.172358e+05   \n",
      "std               4040.337842             2852.579397  1.826646e+05   \n",
      "min                  0.000000                0.000000  5.163750e+03   \n",
      "25%                  0.000000                0.000000  6.787061e+04   \n",
      "50%                  0.000000                0.000000  1.064092e+05   \n",
      "75%                  0.000000                0.000000  1.187563e+05   \n",
      "max             681462.900000           397884.300000  2.203474e+07   \n",
      "\n",
      "             TARGET  \n",
      "count  76020.000000  \n",
      "mean       0.039569  \n",
      "std        0.194945  \n",
      "min        0.000000  \n",
      "25%        0.000000  \n",
      "50%        0.000000  \n",
      "75%        0.000000  \n",
      "max        1.000000  \n",
      "\n",
      "[8 rows x 371 columns]\n"
     ]
    },
    {
     "data": {
      "text/plain": [
       "(116, 371)"
      ]
     },
     "execution_count": 10,
     "metadata": {},
     "output_type": "execute_result"
    }
   ],
   "source": [
    "# 116 values in column var3 are -999999\n",
    "# var3 is suspected to be the nationality of the customer\n",
    "# -999999 would mean that the nationality of the customer is unknown\n",
    "print (train.describe())\n",
    "train.loc[train.var3==-999999].shape\n",
    "#print (train.loc[train.var3==-999999,:].head())"
   ]
  },
  {
   "cell_type": "code",
   "execution_count": 11,
   "metadata": {
    "collapsed": false
   },
   "outputs": [
    {
     "data": {
      "text/plain": [
       "(0, 371)"
      ]
     },
     "execution_count": 11,
     "metadata": {},
     "output_type": "execute_result"
    }
   ],
   "source": [
    "# Replace -999999 in var3 column with most common value 2 \n",
    "# See https://www.kaggle.com/cast42/santander-customer-satisfaction/debugging-var3-999999\n",
    "# for details\n",
    "train = train.replace(-999999,2)\n",
    "train.loc[train.var3==-999999].shape"
   ]
  },
  {
   "cell_type": "markdown",
   "metadata": {},
   "source": [
    "# Add feature that counts the number of zeroes in a row"
   ]
  },
  {
   "cell_type": "code",
   "execution_count": 18,
   "metadata": {
    "collapsed": false
   },
   "outputs": [
    {
     "data": {
      "text/plain": [
       "0    356\n",
       "1    330\n",
       "2    341\n",
       "3    310\n",
       "4    320\n",
       "Name: n0, dtype: int64"
      ]
     },
     "execution_count": 18,
     "metadata": {},
     "output_type": "execute_result"
    }
   ],
   "source": [
    "X = train.iloc[:,:-1]\n",
    "y = train.TARGET\n",
    "\n",
    "X['n0'] = (X==0).sum(axis=1)\n",
    "train['n0'] = X['n0']\n",
    "\n",
    "X['n0'].head()\n",
    "\n",
    "#print (type(X['n0']))"
   ]
  },
  {
   "cell_type": "markdown",
   "metadata": {},
   "source": [
    "# Var38"
   ]
  },
  {
   "cell_type": "code",
   "execution_count": 19,
   "metadata": {
    "collapsed": false
   },
   "outputs": [
    {
     "data": {
      "text/plain": [
       "count    7.602000e+04\n",
       "mean     1.172358e+05\n",
       "std      1.826646e+05\n",
       "min      5.163750e+03\n",
       "25%      6.787061e+04\n",
       "50%      1.064092e+05\n",
       "75%      1.187563e+05\n",
       "max      2.203474e+07\n",
       "Name: var38, dtype: float64"
      ]
     },
     "execution_count": 19,
     "metadata": {},
     "output_type": "execute_result"
    }
   ],
   "source": [
    "# var38 is important according to XGBOOST\n",
    "# see https://www.kaggle.com/cast42/santander-customer-satisfaction/xgboost-with-early-stopping/files\n",
    "# Also RFC thinks var38 is important\n",
    "# see https://www.kaggle.com/tks0123456789/santander-customer-satisfaction/data-exploration/notebook\n",
    "# so far I have not seen a guess what var38 may be about\n",
    "train.var38.describe()"
   ]
  },
  {
   "cell_type": "code",
   "execution_count": 20,
   "metadata": {
    "collapsed": false
   },
   "outputs": [
    {
     "data": {
      "text/plain": [
       "count    3.008000e+03\n",
       "mean     9.967828e+04\n",
       "std      1.063098e+05\n",
       "min      1.113663e+04\n",
       "25%      5.716094e+04\n",
       "50%      8.621997e+04\n",
       "75%      1.173110e+05\n",
       "max      3.988595e+06\n",
       "Name: var38, dtype: float64"
      ]
     },
     "execution_count": 20,
     "metadata": {},
     "output_type": "execute_result"
    }
   ],
   "source": [
    "# How is var38 looking when customer is unhappy ?\n",
    "train.loc[train['TARGET']==1, 'var38'].describe()"
   ]
  },
  {
   "cell_type": "code",
   "execution_count": 22,
   "metadata": {
    "collapsed": false
   },
   "outputs": [
    {
     "data": {
      "text/plain": [
       "<matplotlib.axes._subplots.AxesSubplot at 0x111a2db38>"
      ]
     },
     "execution_count": 22,
     "metadata": {},
     "output_type": "execute_result"
    },
    {
     "data": {
      "image/png": "[encoded data removed]",
      "text/plain": [
       "<matplotlib.figure.Figure at 0x111a0ebe0>"
      ]
     },
     "metadata": {},
     "output_type": "display_data"
    }
   ],
   "source": [
    "# Histogram for var 38 is not normal distributed\n",
    "%matplotlib inline\n",
    "train.var38.hist(bins=1000)"
   ]
  },
  {
   "cell_type": "code",
   "execution_count": 30,
   "metadata": {
    "collapsed": false
   },
   "outputs": [
    {
     "data": {
      "text/plain": [
       "<matplotlib.axes._subplots.AxesSubplot at 0x11996c2b0>"
      ]
     },
     "execution_count": 30,
     "metadata": {},
     "output_type": "execute_result"
    },
    {
     "data": {
      "image/png": "[encoded data removed]",
      "text/plain": [
       "<matplotlib.figure.Figure at 0x1199886d8>"
      ]
     },
     "metadata": {},
     "output_type": "display_data"
    }
   ],
   "source": [
    "train.var38.map(np.log).hist(bins=1000)"
   ]
  },
  {
   "cell_type": "code",
   "execution_count": 33,
   "metadata": {
    "collapsed": false
   },
   "outputs": [
    {
     "data": {
      "text/plain": [
       "0    11.672584\n",
       "dtype: float64"
      ]
     },
     "execution_count": 33,
     "metadata": {},
     "output_type": "execute_result"
    }
   ],
   "source": [
    "# where is the spike between 11 and 12  in the log plot ?\n",
    "train.var38.map(np.log).mode()"
   ]
  },
  {
   "cell_type": "code",
   "execution_count": 25,
   "metadata": {
    "collapsed": false
   },
   "outputs": [
    {
     "data": {
      "text/plain": [
       "117310.979016    14868\n",
       "451931.220000       16\n",
       "463625.160000       12\n",
       "104563.800000       11\n",
       "288997.440000       11\n",
       "236690.340000        8\n",
       "67088.310000         7\n",
       "128318.520000        7\n",
       "329603.970000        7\n",
       "125722.440000        7\n",
       "104644.410000        7\n",
       "70813.800000         6\n",
       "163432.470000        6\n",
       "105260.880000        6\n",
       "97639.560000         6\n",
       "185385.690000        6\n",
       "100466.730000        6\n",
       "168733.620000        6\n",
       "127141.500000        5\n",
       "227397.720000        5\n",
       "71302.530000         5\n",
       "235476.720000        5\n",
       "192920.760000        5\n",
       "33184.020000         5\n",
       "185784.720000        5\n",
       "208961.790000        5\n",
       "83174.280000         5\n",
       "171932.700000        5\n",
       "121603.020000        5\n",
       "229351.650000        5\n",
       "                 ...  \n",
       "67239.600000         1\n",
       "84077.580000         1\n",
       "83315.520000         1\n",
       "84145.410000         1\n",
       "84203.250000         1\n",
       "111706.230000        1\n",
       "84202.590000         1\n",
       "215271.630000        1\n",
       "84198.450000         1\n",
       "84196.500000         1\n",
       "84194.940000         1\n",
       "83321.910000         1\n",
       "117971.910000        1\n",
       "84190.050000         1\n",
       "84187.410000         1\n",
       "84185.040000         1\n",
       "84182.670000         1\n",
       "84181.950000         1\n",
       "215252.280000        1\n",
       "84179.850000         1\n",
       "84178.770000         1\n",
       "84177.090000         1\n",
       "477388.740000        1\n",
       "84169.110000         1\n",
       "84167.880000         1\n",
       "84162.270000         1\n",
       "84160.980000         1\n",
       "215230.230000        1\n",
       "84150.720000         1\n",
       "131072.070000        1\n",
       "Name: var38, dtype: int64"
      ]
     },
     "execution_count": 25,
     "metadata": {},
     "output_type": "execute_result"
    }
   ],
   "source": [
    "# What are the most common values for var38 ?\n",
    "train.var38.value_counts()"
   ]
  },
  {
   "cell_type": "markdown",
   "metadata": {},
   "source": [
    "the value 117310.979016 appears 14868 times in colum var38"
   ]
  },
  {
   "cell_type": "code",
   "execution_count": 35,
   "metadata": {
    "collapsed": false
   },
   "outputs": [
    {
     "name": "stdout",
     "output_type": "stream",
     "text": [
      "[ True  True  True ...,  True  True False]\n"
     ]
    },
    {
     "data": {
      "text/plain": [
       "451931.22    16\n",
       "463625.16    12\n",
       "104563.80    11\n",
       "288997.44    11\n",
       "236690.34     8\n",
       "128318.52     7\n",
       "104644.41     7\n",
       "125722.44     7\n",
       "329603.97     7\n",
       "67088.31      7\n",
       "70813.80      6\n",
       "185385.69     6\n",
       "100466.73     6\n",
       "168733.62     6\n",
       "163432.47     6\n",
       "105260.88     6\n",
       "97639.56      6\n",
       "171932.70     5\n",
       "148781.16     5\n",
       "131353.47     5\n",
       "185784.72     5\n",
       "53324.46      5\n",
       "127141.50     5\n",
       "63820.89      5\n",
       "121603.02     5\n",
       "235476.72     5\n",
       "83174.28      5\n",
       "85814.04      5\n",
       "276030.57     5\n",
       "71302.53      5\n",
       "             ..\n",
       "84483.51      1\n",
       "84482.01      1\n",
       "477748.14     1\n",
       "84535.56      1\n",
       "84577.77      1\n",
       "84536.04      1\n",
       "84574.05      1\n",
       "215645.88     1\n",
       "84571.65      1\n",
       "84570.66      1\n",
       "84569.88      1\n",
       "84567.84      1\n",
       "84565.59      1\n",
       "84563.91      1\n",
       "84562.95      1\n",
       "84560.67      1\n",
       "84559.17      1\n",
       "84558.96      1\n",
       "84557.91      1\n",
       "84556.50      1\n",
       "84555.27      1\n",
       "84545.04      1\n",
       "215616.45     1\n",
       "65688.57      1\n",
       "84541.53      1\n",
       "84540.33      1\n",
       "84539.79      1\n",
       "84538.08      1\n",
       "84537.51      1\n",
       "131072.07     1\n",
       "Name: var38, dtype: int64"
      ]
     },
     "execution_count": 35,
     "metadata": {},
     "output_type": "execute_result"
    }
   ],
   "source": [
    "# what if we exclude the most common value\n",
    "# np.isclose returns a boolean array where two arrays are element-wise equal within a tolerance\n",
    "# print (~np.isclose(train.var38, 117310.979016))\n",
    "train.loc[~np.isclose(train.var38, 117310.979016), 'var38'].value_counts()"
   ]
  },
  {
   "cell_type": "code",
   "execution_count": 27,
   "metadata": {
    "collapsed": false
   },
   "outputs": [
    {
     "data": {
      "text/plain": [
       "<matplotlib.axes._subplots.AxesSubplot at 0x114ea1898>"
      ]
     },
     "execution_count": 27,
     "metadata": {},
     "output_type": "execute_result"
    },
    {
     "data": {
      "image/png": "[encoded data removed]",
      "text/plain": [
       "<matplotlib.figure.Figure at 0x10b882208>"
      ]
     },
     "metadata": {},
     "output_type": "display_data"
    }
   ],
   "source": [
    "# Look at the distribution\n",
    "train.loc[~np.isclose(train.var38, 117310.979016), 'var38'].map(np.log).hist(bins=100)"
   ]
  },
  {
   "cell_type": "code",
   "execution_count": 28,
   "metadata": {
    "collapsed": false
   },
   "outputs": [],
   "source": [
    "# Above plot suggest we split up var38 into two variables\n",
    "# var38mc == 1 when var38 has the most common value and 0 otherwise\n",
    "# logvar38 is log transformed feature when var38mc is 0, zero otherwise\n",
    "train['var38mc'] = np.isclose(train.var38, 117310.979016)\n",
    "train['logvar38'] = train.loc[~train['var38mc'], 'var38'].map(np.log)\n",
    "train.loc[train['var38mc'], 'logvar38'] = 0"
   ]
  },
  {
   "cell_type": "code",
   "execution_count": 36,
   "metadata": {
    "collapsed": false
   },
   "outputs": [
    {
     "name": "stdout",
     "output_type": "stream",
     "text": [
      "Number of nan in var38mc 0\n",
      "Number of nan in logvar38 0\n"
     ]
    }
   ],
   "source": [
    "#Check for nan's\n",
    "print('Number of nan in var38mc', train['var38mc'].isnull().sum())\n",
    "print('Number of nan in logvar38',train['logvar38'].isnull().sum())"
   ]
  },
  {
   "cell_type": "markdown",
   "metadata": {},
   "source": [
    "# var15"
   ]
  },
  {
   "cell_type": "markdown",
   "metadata": {},
   "source": [
    "The most important feature for XGBoost is var15. According to [a Kaggle form post](https://www.kaggle.com/c/santander-customer-satisfaction/forums/t/19291/data-dictionary/110414#post110414)\n",
    "    var15 is the age of the customer. Let's explore var15"
   ]
  },
  {
   "cell_type": "code",
   "execution_count": 37,
   "metadata": {
    "collapsed": false
   },
   "outputs": [
    {
     "data": {
      "text/plain": [
       "count    76020.000000\n",
       "mean        33.212865\n",
       "std         12.956486\n",
       "min          5.000000\n",
       "25%         23.000000\n",
       "50%         28.000000\n",
       "75%         40.000000\n",
       "max        105.000000\n",
       "Name: var15, dtype: float64"
      ]
     },
     "execution_count": 37,
     "metadata": {},
     "output_type": "execute_result"
    }
   ],
   "source": [
    "train['var15'].describe()"
   ]
  },
  {
   "cell_type": "code",
   "execution_count": 38,
   "metadata": {
    "collapsed": false
   },
   "outputs": [
    {
     "data": {
      "text/plain": [
       "<matplotlib.axes._subplots.AxesSubplot at 0x119c5dc50>"
      ]
     },
     "execution_count": 38,
     "metadata": {},
     "output_type": "execute_result"
    },
    {
     "data": {
      "image/png": "[encoded data removed]",
      "text/plain": [
       "<matplotlib.figure.Figure at 0x115779a20>"
      ]
     },
     "metadata": {},
     "output_type": "display_data"
    }
   ],
   "source": [
    "#Looks more normal, plot the histogram\n",
    "train['var15'].hist(bins=100)"
   ]
  },
  {
   "cell_type": "code",
   "execution_count": 40,
   "metadata": {
    "collapsed": false
   },
   "outputs": [
    {
     "data": {
      "image/png": "[encoded data removed]",
      "text/plain": [
       "<matplotlib.figure.Figure at 0x11d8404e0>"
      ]
     },
     "metadata": {},
     "output_type": "display_data"
    }
   ],
   "source": [
    "# Let's look at the density of the age of happy/unhappy customers\n",
    "sns.FacetGrid(train, hue=\"TARGET\", size=6) \\\n",
    "   .map(sns.kdeplot, \"var15\") \\\n",
    "   .add_legend()\n",
    "plt.title('Unhappy customers are slightly older')\n",
    "plt.show()"
   ]
  },
  {
   "cell_type": "markdown",
   "metadata": {},
   "source": [
    "# saldo_var30"
   ]
  },
  {
   "cell_type": "code",
   "execution_count": 41,
   "metadata": {
    "collapsed": false
   },
   "outputs": [
    {
     "data": {
      "image/png": "[encoded data removed]",
      "text/plain": [
       "<matplotlib.figure.Figure at 0x11f16b6a0>"
      ]
     },
     "metadata": {},
     "output_type": "display_data"
    }
   ],
   "source": [
    "# Let's look at the density of the age of happy/unhappy customers for saldo_var30\n",
    "sns.FacetGrid(train, hue=\"TARGET\", size=6) \\\n",
    "   .map(sns.kdeplot, \"saldo_var30\") \\\n",
    "   .add_legend()\n",
    "plt.show()"
   ]
  },
  {
   "cell_type": "markdown",
   "metadata": {},
   "source": [
    "# Explore the interaction between var15 (age) and var38"
   ]
  },
  {
   "cell_type": "code",
   "execution_count": null,
   "metadata": {
    "collapsed": false
   },
   "outputs": [],
   "source": [
    "sns.FacetGrid(train, hue=\"TARGET\", size=10) \\\n",
    "   .map(plt.scatter, \"var38\", \"var15\") \\\n",
    "   .add_legend()"
   ]
  },
  {
   "cell_type": "code",
   "execution_count": null,
   "metadata": {
    "collapsed": false
   },
   "outputs": [],
   "source": [
    "sns.FacetGrid(train, hue=\"TARGET\", size=10) \\\n",
    "   .map(plt.scatter, \"logvar38\", \"var15\") \\\n",
    "   .add_legend()\n",
    "plt.ylim([0,120]) # Age must be positive ;-)"
   ]
  },
  {
   "cell_type": "code",
   "execution_count": null,
   "metadata": {
    "collapsed": false
   },
   "outputs": [],
   "source": [
    "# Exclude most common value for var38 \n",
    "sns.FacetGrid(train[~train.var38mc], hue=\"TARGET\", size=10) \\\n",
    "   .map(plt.scatter, \"logvar38\", \"var15\") \\\n",
    "   .add_legend()\n",
    "plt.ylim([0,120])"
   ]
  },
  {
   "cell_type": "code",
   "execution_count": null,
   "metadata": {
    "collapsed": false
   },
   "outputs": [],
   "source": [
    "# What is distribution of the age when var38 has it's most common value ?\n",
    "sns.FacetGrid(train[train.var38mc], hue=\"TARGET\", size=6) \\\n",
    "   .map(sns.kdeplot, \"var15\") \\\n",
    "   .add_legend()"
   ]
  },
  {
   "cell_type": "code",
   "execution_count": null,
   "metadata": {
    "collapsed": false
   },
   "outputs": [],
   "source": [
    "# What is density of n0 ?\n",
    "sns.FacetGrid(train, hue=\"TARGET\", size=6) \\\n",
    "   .map(sns.kdeplot, \"n0\") \\\n",
    "   .add_legend()"
   ]
  },
  {
   "cell_type": "markdown",
   "metadata": {},
   "source": [
    "# Select the most important features"
   ]
  },
  {
   "cell_type": "code",
   "execution_count": null,
   "metadata": {
    "collapsed": false
   },
   "outputs": [],
   "source": [
    "from sklearn.feature_selection import SelectPercentile\n",
    "from sklearn.feature_selection import f_classif,chi2\n",
    "from sklearn.preprocessing import Binarizer, scale\n",
    "\n",
    "# First select features based on chi2 and f_classif\n",
    "p = 3\n",
    "\n",
    "X_bin = Binarizer().fit_transform(scale(X))\n",
    "selectChi2 = SelectPercentile(chi2, percentile=p).fit(X_bin, y)\n",
    "selectF_classif = SelectPercentile(f_classif, percentile=p).fit(X, y)\n",
    "\n",
    "chi2_selected = selectChi2.get_support()\n",
    "chi2_selected_features = [ f for i,f in enumerate(X.columns) if chi2_selected[i]]\n",
    "print('Chi2 selected {} features {}.'.format(chi2_selected.sum(),\n",
    "   chi2_selected_features))\n",
    "f_classif_selected = selectF_classif.get_support()\n",
    "f_classif_selected_features = [ f for i,f in enumerate(X.columns) if f_classif_selected[i]]\n",
    "print('F_classif selected {} features {}.'.format(f_classif_selected.sum(),\n",
    "   f_classif_selected_features))\n",
    "selected = chi2_selected & f_classif_selected\n",
    "print('Chi2 & F_classif selected {} features'.format(selected.sum()))\n",
    "features = [ f for f,s in zip(X.columns, selected) if s]\n",
    "print (features)"
   ]
  },
  {
   "cell_type": "code",
   "execution_count": null,
   "metadata": {
    "collapsed": false
   },
   "outputs": [],
   "source": [
    "# Make a dataframe with the selected features and the target variable\n",
    "X_sel = train[features+['TARGET']]"
   ]
  },
  {
   "cell_type": "markdown",
   "metadata": {},
   "source": [
    "# var36"
   ]
  },
  {
   "cell_type": "code",
   "execution_count": null,
   "metadata": {
    "collapsed": false
   },
   "outputs": [],
   "source": [
    "# var38 (important for XGB and RFC is not selected but var36 is. Let's explore\n",
    "X_sel['var36'].value_counts()"
   ]
  },
  {
   "cell_type": "markdown",
   "metadata": {},
   "source": [
    "var38 is most of the times 99 or [0,1,2,3]"
   ]
  },
  {
   "cell_type": "code",
   "execution_count": null,
   "metadata": {
    "collapsed": false
   },
   "outputs": [],
   "source": [
    "# Let's plot the density in function of the target variabele\n",
    "sns.FacetGrid(train, hue=\"TARGET\", size=6) \\\n",
    "   .map(sns.kdeplot, \"var36\") \\\n",
    "   .add_legend()"
   ]
  },
  {
   "cell_type": "markdown",
   "metadata": {},
   "source": [
    "In above plot we see that the density of unhappy custormers is lower when var36 is not 99"
   ]
  },
  {
   "cell_type": "code",
   "execution_count": null,
   "metadata": {
    "collapsed": false
   },
   "outputs": [],
   "source": [
    "# var36 in function of var38 (most common value excluded) \n",
    "sns.FacetGrid(train[~train.var38mc], hue=\"TARGET\", size=10) \\\n",
    "   .map(plt.scatter, \"var36\", \"logvar38\") \\\n",
    "   .add_legend()\n"
   ]
  },
  {
   "cell_type": "markdown",
   "metadata": {},
   "source": [
    "Let's seperate that in two plots"
   ]
  },
  {
   "cell_type": "code",
   "execution_count": null,
   "metadata": {
    "collapsed": false
   },
   "outputs": [],
   "source": [
    "sns.FacetGrid(train[(~train.var38mc) & (train.var36 < 4)], hue=\"TARGET\", size=10) \\\n",
    "   .map(plt.scatter, \"var36\", \"logvar38\") \\\n",
    "   .add_legend()"
   ]
  },
  {
   "cell_type": "code",
   "execution_count": null,
   "metadata": {
    "collapsed": false
   },
   "outputs": [],
   "source": [
    "# Let's plot the density in function of the target variabele, when var36 = 99\n",
    "sns.FacetGrid(train[(~train.var38mc) & (train.var36 ==99)], hue=\"TARGET\", size=6) \\\n",
    "   .map(sns.kdeplot, \"logvar38\") \\\n",
    "   .add_legend()"
   ]
  },
  {
   "cell_type": "code",
   "execution_count": null,
   "metadata": {
    "collapsed": false
   },
   "outputs": [],
   "source": [
    "sns.pairplot(train[['var15','var36','logvar38','TARGET']], hue=\"TARGET\", size=2, diag_kind=\"kde\")"
   ]
  },
  {
   "cell_type": "code",
   "execution_count": null,
   "metadata": {
    "collapsed": false
   },
   "outputs": [],
   "source": [
    "train[['var15','var36','logvar38','TARGET']].boxplot(by=\"TARGET\", figsize=(12, 6))"
   ]
  },
  {
   "cell_type": "code",
   "execution_count": null,
   "metadata": {
    "collapsed": false
   },
   "outputs": [],
   "source": [
    "# A final multivariate visualization technique pandas has is radviz\n",
    "# Which puts each feature as a point on a 2D plane, and then simulates\n",
    "# having each sample attached to those points through a spring weighted\n",
    "# by the relative value for that feature\n",
    "from pandas.tools.plotting import radviz\n",
    "radviz(train[['var15','var36','logvar38','TARGET']], \"TARGET\")"
   ]
  },
  {
   "cell_type": "markdown",
   "metadata": {},
   "source": [
    "# now look at all 8 features together"
   ]
  },
  {
   "cell_type": "code",
   "execution_count": null,
   "metadata": {
    "collapsed": false
   },
   "outputs": [],
   "source": [
    "features"
   ]
  },
  {
   "cell_type": "code",
   "execution_count": null,
   "metadata": {
    "collapsed": false
   },
   "outputs": [],
   "source": [
    "radviz(train[features], \"TARGET\")"
   ]
  },
  {
   "cell_type": "code",
   "execution_count": null,
   "metadata": {
    "collapsed": false
   },
   "outputs": [],
   "source": [
    "sns.pairplot(train[features], hue=\"TARGET\", size=2, diag_kind=\"kde\")"
   ]
  },
  {
   "cell_type": "markdown",
   "metadata": {},
   "source": [
    "# Correlations"
   ]
  },
  {
   "cell_type": "code",
   "execution_count": null,
   "metadata": {
    "collapsed": false
   },
   "outputs": [],
   "source": [
    "cor_mat = X.corr()"
   ]
  },
  {
   "cell_type": "code",
   "execution_count": null,
   "metadata": {
    "collapsed": false
   },
   "outputs": [],
   "source": [
    "f, ax = plt.subplots(figsize=(15, 12))\n",
    "# Draw the heatmap with the mask and correct aspect ratio\n",
    "sns.heatmap(cor_mat,linewidths=.5, ax=ax)"
   ]
  }
 ],
 "metadata": {
  "kernelspec": {
   "display_name": "Python 3",
   "language": "python",
   "name": "python3"
  },
  "language_info": {
   "codemirror_mode": {
    "name": "ipython",
    "version": 3
   },
   "file_extension": ".py",
   "mimetype": "text/x-python",
   "name": "python",
   "nbconvert_exporter": "python",
   "pygments_lexer": "ipython3",
   "version": "3.4.4"
  }
 },
 "nbformat": 4,
 "nbformat_minor": 0
}
