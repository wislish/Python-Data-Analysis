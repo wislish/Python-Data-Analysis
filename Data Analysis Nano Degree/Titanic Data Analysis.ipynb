{
 "cells": [
  {
   "cell_type": "markdown",
   "metadata": {},
   "source": [
    "# Titanic Survival Data Analysis\n",
    "___\n",
    "\n",
    "## Question: What factors made people more likely to survive?\n",
    "___\n",
    "\n",
    "### Load and Clean the Dataset"
   ]
  },
  {
   "cell_type": "code",
   "execution_count": 1,
   "metadata": {
    "collapsed": false
   },
   "outputs": [],
   "source": [
    "import pandas as pd\n",
    "import numpy as np\n",
    "\n",
    "import matplotlib.pyplot as plt\n",
    "import seaborn as sns\n",
    "import math\n",
    "\n",
    "#sns.set_style('whitegrid')\n",
    "%matplotlib inline"
   ]
  },
  {
   "cell_type": "code",
   "execution_count": 2,
   "metadata": {
    "collapsed": false
   },
   "outputs": [
    {
     "name": "stdout",
     "output_type": "stream",
     "text": [
      "<class 'pandas.core.frame.DataFrame'>\n",
      "RangeIndex: 891 entries, 0 to 890\n",
      "Data columns (total 12 columns):\n",
      "PassengerId    891 non-null int64\n",
      "Survived       891 non-null int64\n",
      "Pclass         891 non-null int64\n",
      "Name           891 non-null object\n",
      "Sex            891 non-null object\n",
      "Age            714 non-null float64\n",
      "SibSp          891 non-null int64\n",
      "Parch          891 non-null int64\n",
      "Ticket         891 non-null object\n",
      "Fare           891 non-null float64\n",
      "Cabin          204 non-null object\n",
      "Embarked       889 non-null object\n",
      "dtypes: float64(2), int64(5), object(5)\n",
      "memory usage: 83.6+ KB\n",
      "None\n",
      "----------------------------\n",
      "       PassengerId    Survived      Pclass         Age       SibSp  \\\n",
      "count   891.000000  891.000000  891.000000  714.000000  891.000000   \n",
      "mean    446.000000    0.383838    2.308642   29.699118    0.523008   \n",
      "std     257.353842    0.486592    0.836071   14.526497    1.102743   \n",
      "min       1.000000    0.000000    1.000000    0.420000    0.000000   \n",
      "25%     223.500000    0.000000    2.000000         NaN    0.000000   \n",
      "50%     446.000000    0.000000    3.000000         NaN    0.000000   \n",
      "75%     668.500000    1.000000    3.000000         NaN    1.000000   \n",
      "max     891.000000    1.000000    3.000000   80.000000    8.000000   \n",
      "\n",
      "            Parch        Fare  \n",
      "count  891.000000  891.000000  \n",
      "mean     0.381594   32.204208  \n",
      "std      0.806057   49.693429  \n",
      "min      0.000000    0.000000  \n",
      "25%      0.000000    7.910400  \n",
      "50%      0.000000   14.454200  \n",
      "75%      0.000000   31.000000  \n",
      "max      6.000000  512.329200  \n"
     ]
    },
    {
     "name": "stderr",
     "output_type": "stream",
     "text": [
      "/Users/wislish/anaconda/lib/python3.5/site-packages/numpy/lib/function_base.py:3834: RuntimeWarning: Invalid value encountered in percentile\n",
      "  RuntimeWarning)\n"
     ]
    }
   ],
   "source": [
    "titanic = pd.read_csv(\"titanic_data.csv\")\n",
    "\n",
    "print(titanic.info())\n",
    "print(\"----------------------------\")\n",
    "print(titanic.describe())\n",
    "# The Cabin column has so many missing values, so we can just ignore it.\n",
    "titanic.drop('Cabin',axis=1,inplace=True)\n",
    "titanic.drop('PassengerId',axis=1,inplace=True)"
   ]
  },
  {
   "cell_type": "markdown",
   "metadata": {},
   "source": [
    "___\n",
    "### Dealing with the missing values. `Three variables have missing values.`\n"
   ]
  },
  {
   "cell_type": "code",
   "execution_count": 3,
   "metadata": {
    "collapsed": false
   },
   "outputs": [
    {
     "name": "stdout",
     "output_type": "stream",
     "text": [
      "YES    791\n",
      "NO     100\n",
      "Name: Is_Adult, dtype: int64\n"
     ]
    },
    {
     "data": {
      "image/png": "[encoded data removed]",
      "text/plain": [
       "<matplotlib.figure.Figure at 0x117a68a90>"
      ]
     },
     "metadata": {},
     "output_type": "display_data"
    }
   ],
   "source": [
    "####################################################################\n",
    "titanic.Age = titanic.Age.fillna(titanic.Age.median())\n",
    "# Create a new column 'Is_Adult' to represent if the passenger is an adult\n",
    "titanic.loc[titanic['Age'] >16, 'Is_Adult'] = 'YES'\n",
    "titanic.loc[titanic['Age'] <=16, 'Is_Adult'] = 'NO'\n",
    "\n",
    "print(titanic.Is_Adult.value_counts())\n",
    "\n",
    "embarked_mode = titanic['Embarked'].mode().values\n",
    "# print (embarked_mode)\n",
    "titanic.Embarked = titanic[\"Embarked\"].fillna(embarked_mode[0])\n",
    "\n",
    "# Create a new column 'famSize' to represent the total number of family members.\n",
    "titanic['famSize'] = titanic.SibSp + titanic.Parch\n",
    "titanic['famSize'].hist()\n",
    "# Bigger than 3 represents a big family\n",
    "titanic.loc[titanic['famSize'] >=3, 'Is_Big_Family'] = 'YES'\n",
    "titanic.loc[titanic['famSize'] <3, 'Is_Big_Family'] = 'NO'"
   ]
  },
  {
   "cell_type": "code",
   "execution_count": 4,
   "metadata": {
    "collapsed": false
   },
   "outputs": [
    {
     "name": "stdout",
     "output_type": "stream",
     "text": [
      "<class 'pandas.core.frame.DataFrame'>\n",
      "RangeIndex: 891 entries, 0 to 890\n",
      "Data columns (total 13 columns):\n",
      "Survived         891 non-null int64\n",
      "Pclass           891 non-null int64\n",
      "Name             891 non-null object\n",
      "Sex              891 non-null object\n",
      "Age              891 non-null float64\n",
      "SibSp            891 non-null int64\n",
      "Parch            891 non-null int64\n",
      "Ticket           891 non-null object\n",
      "Fare             891 non-null float64\n",
      "Embarked         891 non-null object\n",
      "Is_Adult         891 non-null object\n",
      "famSize          891 non-null int64\n",
      "Is_Big_Family    891 non-null object\n",
      "dtypes: float64(2), int64(5), object(6)\n",
      "memory usage: 90.6+ KB\n",
      "-----------------------------\n"
     ]
    },
    {
     "data": {
      "text/html": [
       "<div>\n",
       "<table border=\"1\" class=\"dataframe\">\n",
       "  <thead>\n",
       "    <tr style=\"text-align: right;\">\n",
       "      <th></th>\n",
       "      <th>Survived</th>\n",
       "      <th>Pclass</th>\n",
       "      <th>Age</th>\n",
       "      <th>SibSp</th>\n",
       "      <th>Parch</th>\n",
       "      <th>Fare</th>\n",
       "      <th>famSize</th>\n",
       "    </tr>\n",
       "  </thead>\n",
       "  <tbody>\n",
       "    <tr>\n",
       "      <th>count</th>\n",
       "      <td>891.000000</td>\n",
       "      <td>891.000000</td>\n",
       "      <td>891.000000</td>\n",
       "      <td>891.000000</td>\n",
       "      <td>891.000000</td>\n",
       "      <td>891.000000</td>\n",
       "      <td>891.000000</td>\n",
       "    </tr>\n",
       "    <tr>\n",
       "      <th>mean</th>\n",
       "      <td>0.383838</td>\n",
       "      <td>2.308642</td>\n",
       "      <td>29.361582</td>\n",
       "      <td>0.523008</td>\n",
       "      <td>0.381594</td>\n",
       "      <td>32.204208</td>\n",
       "      <td>0.904602</td>\n",
       "    </tr>\n",
       "    <tr>\n",
       "      <th>std</th>\n",
       "      <td>0.486592</td>\n",
       "      <td>0.836071</td>\n",
       "      <td>13.019697</td>\n",
       "      <td>1.102743</td>\n",
       "      <td>0.806057</td>\n",
       "      <td>49.693429</td>\n",
       "      <td>1.613459</td>\n",
       "    </tr>\n",
       "    <tr>\n",
       "      <th>min</th>\n",
       "      <td>0.000000</td>\n",
       "      <td>1.000000</td>\n",
       "      <td>0.420000</td>\n",
       "      <td>0.000000</td>\n",
       "      <td>0.000000</td>\n",
       "      <td>0.000000</td>\n",
       "      <td>0.000000</td>\n",
       "    </tr>\n",
       "    <tr>\n",
       "      <th>25%</th>\n",
       "      <td>0.000000</td>\n",
       "      <td>2.000000</td>\n",
       "      <td>22.000000</td>\n",
       "      <td>0.000000</td>\n",
       "      <td>0.000000</td>\n",
       "      <td>7.910400</td>\n",
       "      <td>0.000000</td>\n",
       "    </tr>\n",
       "    <tr>\n",
       "      <th>50%</th>\n",
       "      <td>0.000000</td>\n",
       "      <td>3.000000</td>\n",
       "      <td>28.000000</td>\n",
       "      <td>0.000000</td>\n",
       "      <td>0.000000</td>\n",
       "      <td>14.454200</td>\n",
       "      <td>0.000000</td>\n",
       "    </tr>\n",
       "    <tr>\n",
       "      <th>75%</th>\n",
       "      <td>1.000000</td>\n",
       "      <td>3.000000</td>\n",
       "      <td>35.000000</td>\n",
       "      <td>1.000000</td>\n",
       "      <td>0.000000</td>\n",
       "      <td>31.000000</td>\n",
       "      <td>1.000000</td>\n",
       "    </tr>\n",
       "    <tr>\n",
       "      <th>max</th>\n",
       "      <td>1.000000</td>\n",
       "      <td>3.000000</td>\n",
       "      <td>80.000000</td>\n",
       "      <td>8.000000</td>\n",
       "      <td>6.000000</td>\n",
       "      <td>512.329200</td>\n",
       "      <td>10.000000</td>\n",
       "    </tr>\n",
       "  </tbody>\n",
       "</table>\n",
       "</div>"
      ],
      "text/plain": [
       "         Survived      Pclass         Age       SibSp       Parch        Fare  \\\n",
       "count  891.000000  891.000000  891.000000  891.000000  891.000000  891.000000   \n",
       "mean     0.383838    2.308642   29.361582    0.523008    0.381594   32.204208   \n",
       "std      0.486592    0.836071   13.019697    1.102743    0.806057   49.693429   \n",
       "min      0.000000    1.000000    0.420000    0.000000    0.000000    0.000000   \n",
       "25%      0.000000    2.000000   22.000000    0.000000    0.000000    7.910400   \n",
       "50%      0.000000    3.000000   28.000000    0.000000    0.000000   14.454200   \n",
       "75%      1.000000    3.000000   35.000000    1.000000    0.000000   31.000000   \n",
       "max      1.000000    3.000000   80.000000    8.000000    6.000000  512.329200   \n",
       "\n",
       "          famSize  \n",
       "count  891.000000  \n",
       "mean     0.904602  \n",
       "std      1.613459  \n",
       "min      0.000000  \n",
       "25%      0.000000  \n",
       "50%      0.000000  \n",
       "75%      1.000000  \n",
       "max     10.000000  "
      ]
     },
     "execution_count": 4,
     "metadata": {},
     "output_type": "execute_result"
    }
   ],
   "source": [
    "titanic.info()\n",
    "print(\"-----------------------------\")\n",
    "titanic.describe()"
   ]
  },
  {
   "cell_type": "markdown",
   "metadata": {},
   "source": [
    "___\n",
    "\n",
    "### Answer the Question.\n",
    "**1. Simple Methods**\n",
    "\n",
    "This method calculates the rate of survival by grouping the whole dataset into 4 different subsets and getting the mean survival rate.\n",
    "\n",
    "According to the calculation, we find that the '`Sex`' feature can tell whether passengers were dead or alive most effectively."
   ]
  },
  {
   "cell_type": "code",
   "execution_count": 5,
   "metadata": {
    "collapsed": false
   },
   "outputs": [
    {
     "name": "stdout",
     "output_type": "stream",
     "text": [
      "0.62962962963\n"
     ]
    },
    {
     "data": {
      "text/plain": [
       "<matplotlib.axes._subplots.AxesSubplot at 0x11a36cac8>"
      ]
     },
     "execution_count": 5,
     "metadata": {},
     "output_type": "execute_result"
    },
    {
     "data": {
      "image/png": "[encoded data removed]",
      "text/plain": [
       "<matplotlib.figure.Figure at 0x117a59f98>"
      ]
     },
     "metadata": {},
     "output_type": "display_data"
    }
   ],
   "source": [
    "sex_survived = titanic.groupby('Sex').mean()['Survived']\n",
    "family_survived = titanic.groupby('Is_Big_Family').mean()['Survived']\n",
    "age_survived = titanic.groupby('Is_Adult').mean()['Survived']\n",
    "pclass_survived = titanic.groupby('Pclass').mean()['Survived']\n",
    "\n",
    "print (pclass_survived[1])\n",
    "\n",
    "plt.subplot(221)\n",
    "sns.barplot(x=['Female','Male'], y=[sex_survived['female'],sex_survived['male']])\n",
    "plt.ylabel('Survival Rate')\n",
    "plt.subplot(222)\n",
    "sns.barplot(x=['Big Family','Small Family'], y=[family_survived['YES'],family_survived['NO']])\n",
    "plt.subplot(223)\n",
    "sns.barplot(x=['Adult','Not Adult'], y=[age_survived['YES'],age_survived['NO']])\n",
    "plt.ylabel('Survival Rate')\n",
    "plt.subplot(224)\n",
    "sns.barplot(x=['1','2','3'], y=[pclass_survived[1],pclass_survived[2], pclass_survived[3]])\n",
    "\n"
   ]
  },
  {
   "cell_type": "markdown",
   "metadata": {
    "collapsed": false
   },
   "source": [
    "___\n",
    "**2. Pearson Correlation** & **Pearson's Chi-square test**"
   ]
  },
  {
   "cell_type": "code",
   "execution_count": 6,
   "metadata": {
    "collapsed": false
   },
   "outputs": [
    {
     "name": "stdout",
     "output_type": "stream",
     "text": [
      "<class 'pandas.core.frame.DataFrame'>\n",
      "RangeIndex: 891 entries, 0 to 890\n",
      "Data columns (total 11 columns):\n",
      "Survived         891 non-null int64\n",
      "Pclass           891 non-null int64\n",
      "Sex              891 non-null object\n",
      "Age              891 non-null float64\n",
      "SibSp            891 non-null int64\n",
      "Parch            891 non-null int64\n",
      "Fare             891 non-null float64\n",
      "Embarked         891 non-null object\n",
      "Is_Adult         891 non-null object\n",
      "famSize          891 non-null int64\n",
      "Is_Big_Family    891 non-null object\n",
      "dtypes: float64(2), int64(5), object(4)\n",
      "memory usage: 76.6+ KB\n",
      "--------------------------------\n",
      "Survived Pearson Correlation and P value (1.0, 0.0)\n",
      "Sex Pearson Correlation and P value (-0.54335138065775368, 1.4060661308810755e-69)\n",
      "Pclass Pearson Correlation and P value (-0.33848103596101536, 2.5370473879804202e-25)\n",
      "Fare Pearson Correlation and P value (0.25730652238496243, 6.1201893419218733e-15)\n",
      "Embarked Pearson Correlation and P value (-0.16767531386772036, 4.8110926945859104e-07)\n",
      "Is_Adult Pearson Correlation and P value (-0.12148452074077702, 0.00027836211442532505)\n",
      "Parch Pearson Correlation and P value (0.081629407083483485, 0.0147992453747224)\n",
      "Age Pearson Correlation and P value (-0.064910419930525876, 0.052760688475835003)\n",
      "SibSp Pearson Correlation and P value (-0.035322498885735583, 0.29224392869817906)\n",
      "Is_Big_Family Pearson Correlation and P value (-0.0299451984713845, 0.37196520044921488)\n",
      "famSize Pearson Correlation and P value (0.016638989282745237, 0.61989112213449693)\n"
     ]
    }
   ],
   "source": [
    "from scipy.stats import pearsonr\n",
    "\n",
    "# Convert the categorical variable into numeric\n",
    "pear_titanic = titanic.copy()\n",
    "pear_titanic.drop(['Name','Ticket'], axis = 1, inplace = True)\n",
    "pear_titanic.info()\n",
    "pear_titanic.loc[titanic['Sex'] == 'male','Sex'] = 1\n",
    "pear_titanic.loc[titanic['Sex'] == 'female','Sex'] = 0\n",
    "\n",
    "pear_titanic.loc[titanic['Embarked'] == 'C','Embarked'] = 0\n",
    "pear_titanic.loc[titanic['Embarked'] == 'Q','Embarked'] = 1\n",
    "pear_titanic.loc[titanic['Embarked'] == 'S','Embarked'] = 2\n",
    "\n",
    "pear_titanic.loc[titanic['Is_Adult'] == 'YES','Is_Adult'] = 1\n",
    "pear_titanic.loc[titanic['Is_Adult'] == 'NO','Is_Adult'] = 0\n",
    "\n",
    "pear_titanic.loc[titanic['Is_Big_Family'] == 'YES','Is_Big_Family'] = 1\n",
    "pear_titanic.loc[titanic['Is_Big_Family'] == 'NO','Is_Big_Family'] = 0\n",
    "\n",
    "pear_dic = {}\n",
    "for col in pear_titanic.columns:\n",
    "    pear_dic[col] = pearsonr(pear_titanic[col], pear_titanic.Survived)\n",
    "\n",
    "print ('--------------------------------')\n",
    "# print the Pearson value in descending order\n",
    "for var, pearson in sorted(pear_dic.items(), key=lambda t: abs(t[1][0]), reverse=True):\n",
    "    print(\"{0} Pearson Correlation and P value {1}\".format(var,pearson))"
   ]
  },
  {
   "cell_type": "markdown",
   "metadata": {
    "collapsed": false
   },
   "source": [
    "____"
   ]
  },
  {
   "cell_type": "code",
   "execution_count": 7,
   "metadata": {
    "collapsed": false
   },
   "outputs": [
    {
     "name": "stdout",
     "output_type": "stream",
     "text": [
      "21.216250861\n",
      "Pearson Chi-square test for Pclass is 7.5600698703429545\n",
      "Pearson Chi-square test for Sex is 21.21625086104928\n",
      "Pearson Chi-square test for Age is 5.484983905379359\n",
      "Pearson Chi-square test for SibSp is 0.9661975676311659\n",
      "Pearson Chi-square test for Parch is 2.8283593144673884\n",
      "Pearson Chi-square test for Fare is inf\n",
      "Pearson Chi-square test for Embarked is 2.853101721089229\n",
      "Pearson Chi-square test for Is_Adult is 0.6489285049201166\n",
      "Pearson Chi-square test for famSize is 0.39821627062498366\n",
      "Pearson Chi-square test for Is_Big_Family is 0.40120148638043496\n"
     ]
    }
   ],
   "source": [
    "from sklearn.feature_selection import SelectKBest\n",
    "from sklearn.feature_selection import chi2\n",
    "\n",
    "X, y = pear_titanic.iloc[:,1:len(pear_titanic.columns)],pear_titanic.iloc[:,0]\n",
    "chi2Titan = SelectKBest(chi2, k=5).fit(X, y)\n",
    "print (-np.log10(chi2Titan.pvalues_[1]))\n",
    "i = 0\n",
    "for col in pear_titanic.columns:    \n",
    "    if col != 'Survived':\n",
    "        print (\"Pearson Chi-square test for {0} is {1}\".format(col,-np.log10(chi2Titan.pvalues_[i])))\n",
    "        i = i+1"
   ]
  },
  {
   "cell_type": "code",
   "execution_count": 9,
   "metadata": {
    "collapsed": false
   },
   "outputs": [
    {
     "name": "stdout",
     "output_type": "stream",
     "text": [
      "<class 'pandas.core.frame.DataFrame'>\n",
      "RangeIndex: 891 entries, 0 to 890\n",
      "Data columns (total 13 columns):\n",
      "Survived         891 non-null int64\n",
      "Pclass           891 non-null int64\n",
      "Name             891 non-null object\n",
      "Sex              891 non-null object\n",
      "Age              891 non-null float64\n",
      "SibSp            891 non-null int64\n",
      "Parch            891 non-null int64\n",
      "Ticket           891 non-null object\n",
      "Fare             891 non-null float64\n",
      "Embarked         891 non-null object\n",
      "Is_Adult         891 non-null object\n",
      "famSize          891 non-null int64\n",
      "Is_Big_Family    891 non-null object\n",
      "dtypes: float64(2), int64(5), object(6)\n",
      "memory usage: 90.6+ KB\n"
     ]
    }
   ],
   "source": [
    "titanic.info()"
   ]
  },
  {
   "cell_type": "code",
   "execution_count": null,
   "metadata": {
    "collapsed": true
   },
   "outputs": [],
   "source": []
  }
 ],
 "metadata": {
  "anaconda-cloud": {},
  "celltoolbar": "Raw Cell Format",
  "kernelspec": {
   "display_name": "Python [Root]",
   "language": "python",
   "name": "Python [Root]"
  },
  "language_info": {
   "codemirror_mode": {
    "name": "ipython",
    "version": 3
   },
   "file_extension": ".py",
   "mimetype": "text/x-python",
   "name": "python",
   "nbconvert_exporter": "python",
   "pygments_lexer": "ipython3",
   "version": "3.5.2"
  }
 },
 "nbformat": 4,
 "nbformat_minor": 0
}
